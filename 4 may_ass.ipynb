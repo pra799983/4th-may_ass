{
 "cells": [
  {
   "cell_type": "code",
   "execution_count": null,
   "id": "18c5de20-16a1-45a9-80e6-af32169b9139",
   "metadata": {},
   "outputs": [],
   "source": [
    "Q1. What is a time series, and what are some common applications of time series analysis?"
   ]
  },
  {
   "cell_type": "code",
   "execution_count": null,
   "id": "14be0173-0914-4ab0-8ba8-ac15eda63f38",
   "metadata": {},
   "outputs": [],
   "source": [
    "A time series is a sequence of data points collected and recorded at regular intervals over time. It represents the evolution of a variable or phenomenon of interest over a specific period. Time series data can be univariate, where only one variable is recorded, or multivariate, where multiple variables are observed simultaneously.\n",
    "\n",
    "Time series analysis involves studying and modeling the patterns, trends, and dependencies within time series data. It aims to understand the underlying dynamics, make predictions, and extract meaningful insights from the temporal nature of the data.\n",
    "\n",
    "Common applications of time series analysis include:\n",
    "\n",
    "Forecasting: Time series analysis is widely used for forecasting future values of a variable based on its historical behavior. Forecasting helps in making informed decisions and planning for various domains such as sales, demand, stock prices, weather, and economic indicators.\n",
    "\n",
    "Economics and Finance: Time series analysis plays a crucial role in economic and financial studies. It is used to analyze economic indicators, stock market prices, interest rates, exchange rates, and financial market volatility. It helps in understanding the behavior of financial markets, identifying trends, and assessing risk.\n",
    "\n",
    "Climate and Environmental Science: Time series analysis is employed to analyze climate data, such as temperature, rainfall, and atmospheric variables. It helps in studying long-term climate patterns, detecting climate change, and predicting future climate conditions. Additionally, it is used in environmental monitoring, such as analyzing air quality, water levels, and pollutant concentrations.\n",
    "\n",
    "Operations Research and Supply Chain Management: Time series analysis is used in optimizing operations and managing supply chains. It helps in forecasting demand, inventory management, production planning, and resource allocation. Time series models aid in understanding seasonality, trends, and demand patterns, thereby enhancing efficiency and reducing costs."
   ]
  },
  {
   "cell_type": "code",
   "execution_count": null,
   "id": "b5162f94-470a-44a5-8c04-7d5d7614c1c9",
   "metadata": {},
   "outputs": [],
   "source": [
    "Q2. What are some common time series patterns, and how can they be identified and interpreted?"
   ]
  },
  {
   "cell_type": "code",
   "execution_count": null,
   "id": "7df9ce80-bc6d-4a5f-8e07-a1d349faab02",
   "metadata": {},
   "outputs": [],
   "source": [
    "Time series data often exhibit specific patterns and characteristics that can provide insights into the underlying dynamics and help in making predictions. Some common time series patterns include:\n",
    "\n",
    "Trend: A trend represents a long-term systematic change in the mean of the time series over time. It can be upward (positive trend) or downward (negative trend). Trends indicate the overall direction or tendency of the data. Trends can be identified by visual inspection of the time series plot, where a consistent upward or downward movement is observed.\n",
    "\n",
    "Seasonality: Seasonality refers to regular and predictable patterns that repeat at fixed intervals within a time series. It can occur daily, weekly, monthly, quarterly, or annually. Seasonality is often observed in data related to weather, sales, and economic indicators. Seasonal patterns can be identified by examining the data for consistent cycles or repeating patterns at regular \n",
    "ntervals.\n",
    "\n",
    "Cyclical: Cyclical patterns represent fluctuations or oscillations in the time series that are not fixed or predictable like seasonality. Cyclical patterns usually span a longer duration than seasonal patterns and can be influenced by economic or business cycles. Identifying cyclical patterns can be challenging as they may not have consistent periods, and they often require more advanced statistical techniques.\n",
    "\n",
    "Irregular/Residual: Irregular or residual components represent random or unpredictable fluctuations in the time series data that cannot be attributed to trends, seasonality, or cycles. Irregular patterns reflect short-term noise, random shocks, or measurement errors in the data. Residuals can be obtained by subtracting the trend and seasonal components from the original time series."
   ]
  },
  {
   "cell_type": "code",
   "execution_count": null,
   "id": "ef7ac882-2d70-4697-ba0b-b5e2f6b99e4f",
   "metadata": {},
   "outputs": [],
   "source": [
    "Q3. How can time series data be preprocessed before applying analysis techniques?"
   ]
  },
  {
   "cell_type": "code",
   "execution_count": null,
   "id": "7e7d49de-e0d7-4af0-acb4-c7ec564036e4",
   "metadata": {},
   "outputs": [],
   "source": [
    "Before applying analysis techniques to time series data, it is often necessary to preprocess the data to ensure its quality, stationarity, and suitability for modeling.\n",
    "Here are some common preprocessing steps for time series \n",
    "data:\n",
    "\n",
    "Handling Missing Values: Missing values can occur in time series data due to various reasons such as sensor failures, data collection issues, or gaps in recording. Missing\n",
    "values need to be handled before analysis. Depending on the situation, missing values can be imputed using techniques like forward filling, backward filling, mean \n",
    "imputation, or interpolation.\n",
    "\n",
    "Handling Outliers: Outliers are extreme values that deviate significantly from the normal behavior of the time series. Outliers can distort the analysis and modeling \n",
    "results. They should be identified and treated appropriately. Outliers can be detected using statistical methods such as z-score, median absolute deviation, or box plots, \n",
    "and then can be handled through methods like trimming, Winsorization, or replacing with a more reasonable value.\n",
    "\n",
    "Resampling and Aggregating: Time series data may be recorded at different time intervals, which can make analysis challenging. Resampling involves changing the frequency \n",
    "of the data to a higher or lower frequency. For example, data recorded at an hourly interval can be resampled to daily or weekly intervals. Aggregating data within specific\n",
    "time intervals (e.g., sum, average) can also be done to reduce noise or focus on higher-level patterns.\n",
    "\n",
    "Transformations: Data transformations can be applied to stabilize the variance or make the data more suitable for analysis. Common transformations include logarithmic\n",
    "transformation, square root transformation, or Box-Cox transformation. These transformations can help in handling heteroscedasticity or non-normality in the data.\n",
    "\n",
    "Stationarity: Many time series analysis techniques, such as ARIMA models, assume that the data is stationary, meaning the statistical properties do not change over time.\n",
    "If the time series is non-stationary (exhibiting trends or seasonality), it may need to be transformed to achieve stationarity. Techniques like differencing or seasonal\n",
    "differencing can be applied to remove trends or seasonality.\n",
    "\n",
    "Scaling and Normalization: Scaling or normalizing the data can be beneficial, especially when dealing with multiple time series with different scales. Scaling ensures that \n",
    "all variables are on a similar scale, making comparisons and modeling more reliable. Common scaling techniques include min-max scaling, z-score normalization, or \n",
    "logarithmic scaling.\n",
    "\n",
    "Smoothing: Smoothing techniques can be applied to reduce noise or fluctuations in the data and highlight underlying patterns. Moving averages, exponential smoothing, \n",
    "or Savitzky-Golay filters are commonly used smoothing techniques."
   ]
  },
  {
   "cell_type": "code",
   "execution_count": null,
   "id": "d5693487-2a31-410e-96b1-0bba63f7aa18",
   "metadata": {},
   "outputs": [],
   "source": [
    "Q4. How can time series forecasting be used in business decision-making, and what are some common\n",
    "challenges and limitations?"
   ]
  },
  {
   "cell_type": "code",
   "execution_count": null,
   "id": "4b35da28-5672-46ff-84b5-fe3317974c6f",
   "metadata": {},
   "outputs": [],
   "source": [
    "Time series forecasting plays a vital role in business decision-making across various industries. It provides valuable insights and predictions about future trends, \n",
    "patterns, and behavior of time-dependent variables. Here's how time series\n",
    "forecasting can be used in business decision-making:\n",
    "\n",
    "Demand Forecasting: Forecasting future demand is crucial for production planning, inventory management, and supply chain optimization. By analyzing historical sales data\n",
    "and using time series forecasting techniques, businesses can make informed decisions about production levels, resource allocation, and inventory replenishment.\n",
    "\n",
    "Sales and Revenue Forecasting: Time series forecasting helps in estimating future sales and revenue, allowing businesses to set targets, allocate budgets, and make \n",
    "strategic decisions about marketing campaigns, pricing strategies, and resource allocation.\n",
    "\n",
    "Financial Planning and Budgeting: Accurate forecasting of financial variables such as sales, expenses, cash flows, and profits is essential for financial planning, \n",
    "budgeting, and resource allocation. Time series forecasting provides insights into future financial performance, enabling businesses to make informed decisions about \n",
    "investments, cost control, and financial stability.\n",
    "\n",
    "Staffing and Workforce Planning: Time series forecasting can assist in predicting future staffing requirements based on historical patterns, seasonal fluctuations, and \n",
    "demand forecasts. It helps businesses optimize workforce scheduling, plan hiring or downsizing strategies, and ensure adequate staffing levels to meet customer demands.\n",
    "\n",
    "Risk Management: Time series forecasting can contribute to risk assessment and management. By analyzing historical data and identifying patterns and trends, businesses \n",
    "can forecast potential risks such as market volatility, supply chain disruptions, or credit default risks. It allows proactive risk mitigation and the development of \n",
    "contingency plans.\n",
    "\n",
    " limitations:\n",
    "\n",
    "        \n",
    "Data Quality and Completeness: Accurate forecasting relies on the availability of high-quality and complete historical data. Missing values, outliers, or errors in the \n",
    "data can affect the accuracy of forecasts and require appropriate preprocessing and data cleansing techniques.\n",
    "\n",
    "Changing Patterns and Uncertainty: Time series data may exhibit changing patterns and behaviors due to external factors or evolving market conditions. Sudden shifts, \n",
    "outliers, or unforeseen events can disrupt historical patterns, making accurate forecasting challenging.\n",
    "\n",
    "Limited Historical Data: Forecasting accuracy can be compromised when dealing with limited historical data, especially for newly introduced products or emerging markets.\n",
    "Limited data can result in less reliable forecasts and higher uncertainty."
   ]
  },
  {
   "cell_type": "code",
   "execution_count": null,
   "id": "d5cc099e-2fb0-4fef-bf62-f10759bb77d7",
   "metadata": {},
   "outputs": [],
   "source": [
    "Q5. What is ARIMA modelling, and how can it be used to forecast time series data?"
   ]
  },
  {
   "cell_type": "code",
   "execution_count": null,
   "id": "6e6bf070-5283-4b48-8b71-f0745a92018b",
   "metadata": {},
   "outputs": [],
   "source": [
    "ARIMA (Autoregressive Integrated Moving Average) modeling is a popular and powerful technique used for forecasting time series data. It combines the concepts of \n",
    "autoregressive (AR), moving average (MA), and differencing to capture the patterns and dependencies present in the data. ARIMA models are widely used for short- to \n",
    "medium-term forecasting, making them applicable in various fields such as finance, economics, sales forecasting, and more.\n",
    "\n",
    "The ARIMA model is defined by three main components: p, d, and q.\n",
    "\n",
    "Autoregressive (AR) Component (p): The AR component represents the linear relationship between the current observation and a certain number of lagged observations. It \n",
    "captures the autocorrelation in the data. The parameter p determines the number of lagged observations used in the model.\n",
    "\n",
    "Integrated (I) Component (d): The I component represents the differencing required to achieve stationarity in the time series. It removes trends or seasonality present in \n",
    "the data. The parameter d determines the order of differencing needed to achieve stationarity.\n",
    "\n",
    "Moving Average (MA) Component (q): The MA component represents the linear dependency between the current observation and a certain number of lagged forecast errors. It \n",
    "captures the residual autocorrelation in the data. The parameter q determines the number of lagged forecast errors used in the model."
   ]
  },
  {
   "cell_type": "code",
   "execution_count": null,
   "id": "43b147f8-79b1-42c7-8382-88f4fed24a08",
   "metadata": {},
   "outputs": [],
   "source": [
    "Q6. How do Autocorrelation Function (ACF) and Partial Autocorrelation Function (PACF) plots help in\n",
    "identifying the order of ARIMA models?"
   ]
  },
  {
   "cell_type": "code",
   "execution_count": null,
   "id": "e18471ae-b490-415b-b0db-03ad755a51c2",
   "metadata": {},
   "outputs": [],
   "source": [
    "Autocorrelation Function (ACF) and Partial Autocorrelation Function (PACF) plots are commonly used tools in time series analysis to identify the order of Autoregressive \n",
    "Integrated Moving Average (ARIMA) models. These plots provide valuable insights into the autocorrelation structure of the time series data. Here's how ACF and PACF plots\n",
    "help in identifying the order of ARIMA models:\n",
    "\n",
    "Autocorrelation Function (ACF) Plot:\n",
    "The ACF plot shows the correlation between the observations in a time series and their lagged values at different time lags. It helps identify the presence of significant\n",
    "autocorrelation in the data. In the ACF plot, the correlation values are plotted against the lag on the x-axis.\n",
    "If the ACF plot shows a significant spike at the first lag (lag 1) and gradually decreases afterward, it suggests a positive autocorrelation. This indicates the presence of \n",
    "an autoregressive (AR) component in the ARIMA model.\n",
    "If the ACF plot shows a significant spike at the first negative lag (lag -1) and gradually decreases afterward, it suggests a negative autocorrelation. This indicates the\n",
    "presence of a moving average (MA) component in the ARIMA model.\n",
    "If the ACF plot shows a significant spike at multiple lags, it suggests the presence of both AR and MA components in the ARIMA model.\n",
    "Partial Autocorrelation Function (PACF) Plot:\n",
    "The PACF plot represents the partial correlation between observations at different lags, while taking into account the intermediate lags. It helps identify the direct \n",
    "relationship between the observations, excluding the effects of the intermediate lags.\n",
    "If the PACF plot shows a significant spike at the first lag (lag 1) and cuts off abruptly afterward, it suggests a positive partial autocorrelation. This indicates the\n",
    "presence of an AR component in the ARIMA model.\n",
    "If the PACF plot shows a significant spike at the first negative lag (lag -1) and cuts off abruptly afterward,"
   ]
  },
  {
   "cell_type": "code",
   "execution_count": null,
   "id": "336be5b2-2295-4406-bf16-e8b37bb1c6e3",
   "metadata": {},
   "outputs": [],
   "source": [
    "Q7. What are the assumptions of ARIMA models, and how can they be tested for in practice?"
   ]
  },
  {
   "cell_type": "code",
   "execution_count": null,
   "id": "1b4bdfc4-16b7-4c99-a14a-aefbecd41f8f",
   "metadata": {},
   "outputs": [],
   "source": [
    "ARIMA (Autoregressive Integrated Moving Average) models have certain assumptions that need to be satisfied for the model to be valid and reliable. These assumptions are \n",
    "important to ensure the accuracy and meaningfulness of the\n",
    "model's estimates and forecasts. Here are the main assumptions of ARIMA models and how they can be tested for in practice:\n",
    "\n",
    "Stationarity: ARIMA models assume that the time series data is stationary, meaning that its statistical properties do not change over time. Stationarity implies that the\n",
    "mean, variance, and autocovariance of the series are constant across different time periods.\n",
    "Testing for stationarity: Stationarity can be assessed through visual inspection of the time series plot for any obvious trends, seasonality, or systematic patterns. \n",
    "Additionally, statistical tests like the Augmented Dickey-Fuller (ADF) test or the Kwiatkowski-Phillips-Schmidt-Shin (KPSS) test can be employed. These tests examine the \n",
    "presence of unit roots or trend stationarity in the data.\n",
    "No Autocorrelation: ARIMA models assume that there is no autocorrelation in the residuals or errors of the model. Autocorrelation refers to the correlation between the \n",
    "residuals at different lags.\n",
    "Testing for autocorrelation: Autocorrelation can be assessed by examining the ACF (Autocorrelation Function) plot of the residuals. If there is no significant correlation at\n",
    "any lag, it suggests no autocorrelation. The Ljung-Box test or the Durbin-Watson test are commonly used to formally test for autocorrelation in the residuals.\n",
    "Residual Normality: ARIMA models assume that the residuals or errors of the model are normally distributed. Normality of residuals is important for valid statistical \n",
    "inference and reliable parameter estimation.\n",
    "Testing for residual normality: Residual normality can be assessed through visual inspection of a histogram or a QQ plot of the residuals. Statistical tests such as the \n",
    "Shapiro-Wilk test or the Anderson-Darling test can also be used to formally test for normality.\n",
    "Homoscedasticity: ARIMA models assume that the variance of the residuals is constant over time, known as homoscedasticity. Homoscedasticity ensures that the model's\n",
    "predictions have consistent precision across the entire time series."
   ]
  },
  {
   "cell_type": "code",
   "execution_count": null,
   "id": "3e4e2c0f-69ec-4f23-adb6-8df3ada147fc",
   "metadata": {},
   "outputs": [],
   "source": [
    "Q8. Suppose you have monthly sales data for a retail store for the past three years. Which type of time\n",
    "series model would you recommend for forecasting future sales, and why?"
   ]
  },
  {
   "cell_type": "code",
   "execution_count": null,
   "id": "0b0d40ee-1bab-42de-95eb-ff05f0a57c9c",
   "metadata": {},
   "outputs": [],
   "source": [
    "To recommend a time series model for forecasting future sales based on monthly data for the past three years, several factors need to be considered, such as the\n",
    "characteristics of the data, the presence of any trends or seasonality, and the desired forecasting horizon. However, given the limited information\n",
    "provided, a suitable model recommendation would be the Seasonal ARIMA (SARIMA) model.\n",
    "\n",
    "The SARIMA model is a variant of the ARIMA model that incorporates seasonal components. It is particularly useful when the time series exhibits both non-seasonal and\n",
    "seasonal patterns. Here's why SARIMA is recommended in this scenario:\n",
    "\n",
    "Seasonality: If the sales data exhibits seasonal patterns (e.g., consistent spikes or drops in sales during certain months or quarters), the SARIMA model can capture and \n",
    "model these seasonal effects. It accounts for the repeated patterns observed over specific time intervals, such as months or quarters, and can provide more accurate\n",
    "forecasts by considering both non-seasonal and seasonal factors.\n",
    "\n",
    "Flexibility: The SARIMA model can handle various combinations of autoregressive (AR), integrated (I), and moving average (MA) components for both the non-seasonal and \n",
    "seasonal parts of the time series. This flexibility allows for capturing different patterns and dynamics in the data, accommodating different trends, seasonality lengths,\n",
    "\n",
    "and levels of differencing.\n",
    "\n",
    "Forecasting Horizon: SARIMA models are well-suited for short- to medium-term forecasting, making them appropriate for forecasting future sales over the next few months \n",
    "or years. If the desired forecasting horizon is relatively short (e.g., up to 1-2 years), SARIMA can provide accurate and reliable forecasts."
   ]
  },
  {
   "cell_type": "code",
   "execution_count": null,
   "id": "bc41028a-1f33-4123-a57a-233f3d6c89e3",
   "metadata": {},
   "outputs": [],
   "source": [
    "Q9. What are some of the limitations of time series analysis? Provide an example of a scenario where the\n",
    "limitations of time series analysis may be particularly relevant."
   ]
  },
  {
   "cell_type": "code",
   "execution_count": null,
   "id": "1a027369-a959-4d6c-b4e2-5a765f0c53a5",
   "metadata": {},
   "outputs": [],
   "source": [
    "Time series analysis is a powerful tool for understanding and forecasting temporal data, but it has certain limitations. Here are some limitations of time series analysis:\n",
    "\n",
    "Data Quality and Availability: Time series analysis requires high-quality and complete data. Missing values, outliers, or errors in the data can impact the accuracy of the\n",
    "analysis and modeling results. Additionally, obtaining long and consistent time series data may not always be feasible, especially in emerging fields or for newly \n",
    "introduced products.\n",
    "\n",
    "Non-Stationarity: Many time series models assume that the data is stationary, meaning its statistical properties do not change over time. However, real-world data often \n",
    "exhibits trends, seasonality, or other non-stationary patterns. Dealing with non-stationary data requires preprocessing techniques such as differencing or transformations\n",
    "to achieve stationarity.\n",
    "\n",
    "Uncertainty and External Factors: Time series analysis is based on historical patterns and assumes that future behavior will resemble the past. However, unexpected events,\n",
    "external factors, or policy changes can significantly impact future outcomes. Time series models may struggle to capture and account for these sudden changes, leading to \n",
    "inaccurate forecasts.\n",
    "\n",
    "Limited Causality Analysis: Time series analysis primarily focuses on identifying patterns and relationships within the data but does not provide strong insights into \n",
    "causality. Correlations observed in time series data do not necessarily imply causation. Understanding the underlying drivers and causal relationships often requires \n",
    "additional domain knowledge and external data sources.\n",
    "\n",
    "Forecast Horizon: The accuracy of time series forecasts tends to decrease as the forecasting horizon increases. Long-term forecasts are subject to higher uncertainty, \n",
    "making them less reliable compared to short-term forecasts. The forecasts may be influenced by a wide range of factors and assumptions, which may introduce more errors \n",
    "over time."
   ]
  },
  {
   "cell_type": "code",
   "execution_count": null,
   "id": "162d5639-5f19-479f-add9-3d218fa36896",
   "metadata": {},
   "outputs": [],
   "source": [
    "Q10. Explain the difference between a stationary and non-stationary time series. How does the stationarity\n",
    "of a time series affect the choice of forecasting model?"
   ]
  },
  {
   "cell_type": "code",
   "execution_count": null,
   "id": "09a34bba-4328-4730-ac60-c58a226e791e",
   "metadata": {},
   "outputs": [],
   "source": [
    "A stationary time series is one where the statistical properties of the data, such as the mean, variance, and autocovariance, remain constant over time. In other words, \n",
    "the distribution of the data does not change with time, and there are no trends or systematic patterns. On the other hand, a non-stationary time series is one \n",
    "where the statistical properties change over time, often exhibiting trends, seasonality, or other patterns.\n",
    "\n",
    "The stationarity of a time series is crucial in choosing an appropriate forecasting model. Here's how the stationarity of a time series affects the choice of forecasting \n",
    "model:\n",
    "\n",
    "Stationary Time Series:\n",
    "In a stationary time series, the statistical properties remain constant over time. This simplifies the modeling process as it allows for the use of simpler forecasting \n",
    "models. Some common forecasting models suitable for stationary time series include:\n",
    "Autoregressive (AR) models: These models use the past values of the time series to predict future values. AR models assume stationarity and can capture autocorrelation \n",
    "patterns in the data.\n",
    "Moving Average (MA) models: These models use the past forecast errors to predict future values. MA models also assume stationarity and can capture short-term dependencies \n",
    "in the data.\n",
    "Autoregressive Moving Average (ARMA) models: These models combine the AR and MA components to capture both autocorrelation and moving average effects in the data.\n",
    "Non-Stationary Time Series:\n",
    "In a non-stationary time series, the statistical properties change over time, making it more challenging to model and forecast accurately. Non-stationary time series often \n",
    "exhibit trends, seasonality, or other patterns that need to be addressed before modeling. Some common techniques for handling non-stationary time series and selecting \n",
    "forecasting models include:\n",
    "Differencing: Differencing involves taking the difference between consecutive observations to remove trends or seasonality in the data. By transforming a non-stationary\n",
    "series into a stationary one, forecasting models suitable for stationary time series can be applied.\n",
    "Autoregressive Integrated Moving Average (ARIMA) models: ARIMA models are widely used for non-stationary time series forecasting. They incorporate differencing to achieve\n",
    "stationarity (integration component) and capture autocorrelation and moving average effects.\n",
    "Seasonal Time Series:\n",
    "If the time series exhibits clear seasonal patterns, such as regular fluctuations over fixed time intervals, specialized models like Seasonal ARIMA (SARIMA) or seasonal \n",
    "variants of exponential smoothing models (e.g., Holt-Winters) may be appropriate. These models account for both non-seasonal and seasonal components in the data."
   ]
  },
  {
   "cell_type": "code",
   "execution_count": null,
   "id": "d2adecac-7e1b-41ba-87a9-c2d7e279e552",
   "metadata": {},
   "outputs": [],
   "source": []
  },
  {
   "cell_type": "code",
   "execution_count": null,
   "id": "470745eb-f74a-4e0f-b9a2-55bc7bed6ea9",
   "metadata": {},
   "outputs": [],
   "source": []
  },
  {
   "cell_type": "code",
   "execution_count": null,
   "id": "ba7bc019-782b-4592-b6d7-208a0b727c9e",
   "metadata": {},
   "outputs": [],
   "source": []
  }
 ],
 "metadata": {
  "kernelspec": {
   "display_name": "Python 3 (ipykernel)",
   "language": "python",
   "name": "python3"
  },
  "language_info": {
   "codemirror_mode": {
    "name": "ipython",
    "version": 3
   },
   "file_extension": ".py",
   "mimetype": "text/x-python",
   "name": "python",
   "nbconvert_exporter": "python",
   "pygments_lexer": "ipython3",
   "version": "3.10.8"
  }
 },
 "nbformat": 4,
 "nbformat_minor": 5
}
